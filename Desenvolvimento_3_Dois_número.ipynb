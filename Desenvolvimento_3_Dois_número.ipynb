{
  "nbformat": 4,
  "nbformat_minor": 0,
  "metadata": {
    "colab": {
      "private_outputs": true,
      "provenance": [],
      "cell_execution_strategy": "setup",
      "authorship_tag": "ABX9TyOutQ2HF4EEMz/Bnvho/kHO",
      "include_colab_link": true
    },
    "kernelspec": {
      "name": "python3",
      "display_name": "Python 3"
    },
    "language_info": {
      "name": "python"
    }
  },
  "cells": [
    {
      "cell_type": "markdown",
      "metadata": {
        "id": "view-in-github",
        "colab_type": "text"
      },
      "source": [
        "<a href=\"https://colab.research.google.com/github/MisleneSouzaSales17/meu-projeto/blob/main/Desenvolvimento_3_Dois_n%C3%BAmero.ipynb\" target=\"_parent\"><img src=\"https://colab.research.google.com/assets/colab-badge.svg\" alt=\"Open In Colab\"/></a>"
      ]
    },
    {
      "cell_type": "code",
      "execution_count": null,
      "metadata": {
        "id": "8qgARfXs1dQP"
      },
      "outputs": [],
      "source": [
        "## Faça uma função calculadora de dois números com três parâmetros: os dois primeiros serão os números da operação e o terceiro será a entrada que definirá a operação a ser executada. Considera a seguinte definição:\n",
        "##1. Soma\n",
        "##2. Subtração\n",
        "##3. Multiplicação\n",
        "##4. Divisão\n",
        "\n",
        "##Caso seja inserido um número de operação que não exista, o resultado deverá ser 0.\n",
        "\n",
        "def calculadora(num1, num2, operacao):\n",
        "    if operacao == 1:\n",
        "        return num1 + num2\n",
        "    elif operacao == 2:\n",
        "        return num1 - num2\n",
        "    elif operacao == 3:\n",
        "        return num1 * num2\n",
        "    elif operacao == 4:\n",
        "        return num1 / num2\n",
        "    else:\n",
        "        return 0\n",
        "\n",
        "# Exemplos de uso:\n",
        "print(calculadora(8, 2, 1))  # Soma: 15\n",
        "print(calculadora(8, 2, 2))  # Subtração: 5\n",
        "print(calculadora(8, 2, 3))  # Multiplicação: 50\n",
        "print(calculadora(8, 2, 4))  # Divisão: 2\n",
        "print(calculadora(8, 2, 5))  # Operação inválida: 0"
      ]
    }
  ]
}
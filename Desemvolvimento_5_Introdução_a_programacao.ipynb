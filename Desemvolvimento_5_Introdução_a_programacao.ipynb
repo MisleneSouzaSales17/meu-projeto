{
  "nbformat": 4,
  "nbformat_minor": 0,
  "metadata": {
    "colab": {
      "private_outputs": true,
      "provenance": [],
      "cell_execution_strategy": "setup",
      "authorship_tag": "ABX9TyPQlr2EpN1dhMek9KgxMH1k",
      "include_colab_link": true
    },
    "kernelspec": {
      "name": "python3",
      "display_name": "Python 3"
    },
    "language_info": {
      "name": "python"
    }
  },
  "cells": [
    {
      "cell_type": "markdown",
      "metadata": {
        "id": "view-in-github",
        "colab_type": "text"
      },
      "source": [
        "<a href=\"https://colab.research.google.com/github/MisleneSouzaSales17/meu-projeto/blob/main/Desemvolvimento_5_Introdu%C3%A7%C3%A3o_a_programacao.ipynb\" target=\"_parent\"><img src=\"https://colab.research.google.com/assets/colab-badge.svg\" alt=\"Open In Colab\"/></a>"
      ]
    },
    {
      "cell_type": "markdown",
      "source": [
        "\n",
        "Desenvolva um programa que recebe do usuário nome completo e ano de nascimento que seja entre 1922 e 2021.\n",
        "A partir dessas informações, o sistema mostrará o nome do usuário e a idade que completou, ou completará, no ano atual (2022).\n",
        "\n",
        "Caso o usuário não digite um número ou apareça um inválido no campo do ano, o sistema informará o erro e continuará perguntando até que um valor correto seja preenchido."
      ],
      "metadata": {
        "id": "M5dg8TRJDViD"
      }
    },
    {
      "cell_type": "code",
      "source": [
        "def obter_informacoes_usuario():\n",
        "    nome = input(\"Digite seu nome completo: \")\n",
        "    while True:\n",
        "        try:\n",
        "            ano_nascimento = int(input(\"Digite seu ano de nascimento (entre 1922 e 2021): \"))\n",
        "            if 1922 <= ano_nascimento <= 2021:\n",
        "                break\n",
        "            else:\n",
        "                print(\"Ano fora do intervalo permitido. Tente novamente.\")\n",
        "        except ValueError:\n",
        "            print(\"Entrada inválida. Por favor, digite um número.\")\n",
        "\n",
        "    idade = 2022 - ano_nascimento\n",
        "    print(f\"Olá, {nome}! Em 2022, você completou ou completará {idade} anos.\")\n",
        "\n",
        "obter_informacoes_usuario()"
      ],
      "metadata": {
        "id": "0WytWVLODXnH"
      },
      "execution_count": null,
      "outputs": []
    }
  ]
}
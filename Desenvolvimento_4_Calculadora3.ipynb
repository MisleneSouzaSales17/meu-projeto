{
  "nbformat": 4,
  "nbformat_minor": 0,
  "metadata": {
    "colab": {
      "private_outputs": true,
      "provenance": [],
      "cell_execution_strategy": "setup",
      "authorship_tag": "ABX9TyPWVxc6L31szo+n7SR2QUsP",
      "include_colab_link": true
    },
    "kernelspec": {
      "name": "python3",
      "display_name": "Python 3"
    },
    "language_info": {
      "name": "python"
    }
  },
  "cells": [
    {
      "cell_type": "markdown",
      "metadata": {
        "id": "view-in-github",
        "colab_type": "text"
      },
      "source": [
        "<a href=\"https://colab.research.google.com/github/MisleneSouzaSales17/meu-projeto/blob/main/Desenvolvimento_4_Calculadora3.ipynb\" target=\"_parent\"><img src=\"https://colab.research.google.com/assets/colab-badge.svg\" alt=\"Open In Colab\"/></a>"
      ]
    },
    {
      "cell_type": "code",
      "execution_count": null,
      "metadata": {
        "id": "XAmOpWtrA-bp"
      },
      "outputs": [],
      "source": [
        "##Faça uma função calculadora que os números e as operações serão feitas pelo usuário. O código deve ficar rodando infinitamente até que o usuário escolha a opção de sair. No início, o programa mostrará a seguinte lista de operações:\n",
        "##1: Soma\n",
        "##2: Subtração\n",
        "##3: Multiplicação\n",
        "##4: Divisão\n",
        "##0: Sair\n",
        "\n",
        "##Digite o número para a operação correspondente e caso o usuário introduza qualquer outro, o sistema deve mostrar a mensagem “Essa opção não existe” e voltar ao menu de opções.\n",
        "\n",
        "##Após a seleção, o sistema deve pedir para o usuário inserir o primeiro e segundo valor, um de cada. Depois precisa executar a operação e mostrar o resultado na tela. Quando o usuário escolher a opção “Sair”, o sistema irá parar.\n",
        "\n",
        "##É necessário que o sistema mostre as opções sempre que finalizar uma operação e mostrar o resultado.\n",
        "\n",
        "def calculadora():\n",
        "    while True:\n",
        "        print(\"Escolha a operação:\")\n",
        "        print(\"1: Soma\")\n",
        "        print(\"2: Subtração\")\n",
        "        print(\"3: Multiplicação\")\n",
        "        print(\"4: Divisão\")\n",
        "        print(\"0: Sair\")\n",
        "\n",
        "        operacao = int(input(\"Digite o número da operação: \"))\n",
        "\n",
        "        if operacao == 0:\n",
        "            print(\"Saindo...\")\n",
        "            break\n",
        "        elif operacao in [1, 2, 3, 4]:\n",
        "            num1 = float(input(\"Digite o primeiro número: \"))\n",
        "            num2 = float(input(\"Digite o segundo número: \"))\n",
        "\n",
        "            if operacao == 1:\n",
        "                resultado = num1 + num2\n",
        "                print(f\"Resultado: {resultado}\")\n",
        "            elif operacao == 2:\n",
        "                resultado = num1 - num2\n",
        "                print(f\"Resultado: {resultado}\")\n",
        "            elif operacao == 3:\n",
        "                resultado = num1 * num2\n",
        "                print(f\"Resultado: {resultado}\")\n",
        "            elif operacao == 4:\n",
        "                if num2 != 0:\n",
        "                    resultado = num1 / num2\n",
        "                    print(f\"Resultado: {resultado}\")\n",
        "                else:\n",
        "                    print(\"Erro: Divisão por zero!\")\n",
        "        else:\n",
        "            print(\"Essa opção não existe\")\n",
        "\n",
        "# Executar a calculadora\n",
        "calculadora()"
      ]
    }
  ]
}